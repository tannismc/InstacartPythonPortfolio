{
 "cells": [
  {
   "cell_type": "markdown",
   "id": "236d465e",
   "metadata": {},
   "source": [
    "## Tannis McCartney\n",
    "## May 25, 2022\n",
    "\n",
    "### This notebook conducts visualizations on the orders and products merged datset, including the newly derived and aggragated columns"
   ]
  },
  {
   "cell_type": "markdown",
   "id": "240934fe",
   "metadata": {},
   "source": [
    "## Contents:\n",
    "### 01 Import libraries\n",
    "### 02 Import data\n",
    "### 03 Create and export bar charts\n",
    "### 04 Creating and export histogram and scatterplot\n",
    "### 05 Sampling data\n",
    "### 06 Create and export line chart\n",
    "### 07 Create an order_hour_of_day histogram\n",
    "### 08 Create a bar chart from the loyalty_flag column\n",
    "### 09 Create a line chart showing expenditure vs hour of day"
   ]
  },
  {
   "cell_type": "markdown",
   "id": "370e167e",
   "metadata": {},
   "source": [
    "# 01 Import libraries"
   ]
  },
  {
   "cell_type": "code",
   "execution_count": 1,
   "id": "e76f6a94",
   "metadata": {},
   "outputs": [],
   "source": [
    "# Import libraries for analysis and visualization\n",
    "import pandas as pd\n",
    "import numpy as np\n",
    "import os\n",
    "import matplotlib.pyplot as plt\n",
    "import seaborn as sns\n",
    "import scipy"
   ]
  },
  {
   "cell_type": "markdown",
   "id": "a750e647",
   "metadata": {},
   "source": [
    "# 02 Import data"
   ]
  },
  {
   "cell_type": "code",
   "execution_count": 2,
   "id": "8a20e034",
   "metadata": {},
   "outputs": [],
   "source": [
    "# Turn project folder path into a string\n",
    "path = r'C:\\Users\\tmmcc\\Google Drive\\Data Analytics Bootcamp\\4 Python Fundamentals for Data Analysts\\05-2022 Instacart Basket Analysis'"
   ]
  },
  {
   "cell_type": "code",
   "execution_count": 3,
   "id": "d4eef7bb",
   "metadata": {},
   "outputs": [
    {
     "data": {
      "text/html": [
       "<div>\n",
       "<style scoped>\n",
       "    .dataframe tbody tr th:only-of-type {\n",
       "        vertical-align: middle;\n",
       "    }\n",
       "\n",
       "    .dataframe tbody tr th {\n",
       "        vertical-align: top;\n",
       "    }\n",
       "\n",
       "    .dataframe thead th {\n",
       "        text-align: right;\n",
       "    }\n",
       "</style>\n",
       "<table border=\"1\" class=\"dataframe\">\n",
       "  <thead>\n",
       "    <tr style=\"text-align: right;\">\n",
       "      <th></th>\n",
       "      <th>order_id</th>\n",
       "      <th>user_id</th>\n",
       "      <th>order_number</th>\n",
       "      <th>orders_day_of_week</th>\n",
       "      <th>order_hour_of_day</th>\n",
       "      <th>days_since_prior_order</th>\n",
       "      <th>new_customer</th>\n",
       "      <th>product_id</th>\n",
       "      <th>add_to_cart_order</th>\n",
       "      <th>reordered</th>\n",
       "      <th>...</th>\n",
       "      <th>price_range</th>\n",
       "      <th>busiest_day</th>\n",
       "      <th>busiest_2_days</th>\n",
       "      <th>busiest_period_of_day</th>\n",
       "      <th>max_order</th>\n",
       "      <th>loyalty_flag</th>\n",
       "      <th>mean_prices</th>\n",
       "      <th>spending_flag</th>\n",
       "      <th>median_days_since_order</th>\n",
       "      <th>order_frequency</th>\n",
       "    </tr>\n",
       "  </thead>\n",
       "  <tbody>\n",
       "    <tr>\n",
       "      <th>0</th>\n",
       "      <td>2539329</td>\n",
       "      <td>1</td>\n",
       "      <td>1</td>\n",
       "      <td>2</td>\n",
       "      <td>8</td>\n",
       "      <td>NaN</td>\n",
       "      <td>True</td>\n",
       "      <td>196</td>\n",
       "      <td>1</td>\n",
       "      <td>0</td>\n",
       "      <td>...</td>\n",
       "      <td>Mid-range product</td>\n",
       "      <td>Regularly busy</td>\n",
       "      <td>Regularly busy</td>\n",
       "      <td>Average orders</td>\n",
       "      <td>10</td>\n",
       "      <td>New Customer</td>\n",
       "      <td>6.37</td>\n",
       "      <td>Low spender</td>\n",
       "      <td>20.5</td>\n",
       "      <td>Non-frequent customer</td>\n",
       "    </tr>\n",
       "    <tr>\n",
       "      <th>1</th>\n",
       "      <td>2398795</td>\n",
       "      <td>1</td>\n",
       "      <td>2</td>\n",
       "      <td>3</td>\n",
       "      <td>7</td>\n",
       "      <td>15.0</td>\n",
       "      <td>False</td>\n",
       "      <td>196</td>\n",
       "      <td>1</td>\n",
       "      <td>1</td>\n",
       "      <td>...</td>\n",
       "      <td>Mid-range product</td>\n",
       "      <td>Regularly busy</td>\n",
       "      <td>Slowest days</td>\n",
       "      <td>Average orders</td>\n",
       "      <td>10</td>\n",
       "      <td>New Customer</td>\n",
       "      <td>6.37</td>\n",
       "      <td>Low spender</td>\n",
       "      <td>20.5</td>\n",
       "      <td>Non-frequent customer</td>\n",
       "    </tr>\n",
       "    <tr>\n",
       "      <th>2</th>\n",
       "      <td>473747</td>\n",
       "      <td>1</td>\n",
       "      <td>3</td>\n",
       "      <td>3</td>\n",
       "      <td>12</td>\n",
       "      <td>21.0</td>\n",
       "      <td>False</td>\n",
       "      <td>196</td>\n",
       "      <td>1</td>\n",
       "      <td>1</td>\n",
       "      <td>...</td>\n",
       "      <td>Mid-range product</td>\n",
       "      <td>Regularly busy</td>\n",
       "      <td>Slowest days</td>\n",
       "      <td>Most orders</td>\n",
       "      <td>10</td>\n",
       "      <td>New Customer</td>\n",
       "      <td>6.37</td>\n",
       "      <td>Low spender</td>\n",
       "      <td>20.5</td>\n",
       "      <td>Non-frequent customer</td>\n",
       "    </tr>\n",
       "    <tr>\n",
       "      <th>3</th>\n",
       "      <td>2254736</td>\n",
       "      <td>1</td>\n",
       "      <td>4</td>\n",
       "      <td>4</td>\n",
       "      <td>7</td>\n",
       "      <td>29.0</td>\n",
       "      <td>False</td>\n",
       "      <td>196</td>\n",
       "      <td>1</td>\n",
       "      <td>1</td>\n",
       "      <td>...</td>\n",
       "      <td>Mid-range product</td>\n",
       "      <td>Least busy</td>\n",
       "      <td>Slowest days</td>\n",
       "      <td>Average orders</td>\n",
       "      <td>10</td>\n",
       "      <td>New Customer</td>\n",
       "      <td>6.37</td>\n",
       "      <td>Low spender</td>\n",
       "      <td>20.5</td>\n",
       "      <td>Non-frequent customer</td>\n",
       "    </tr>\n",
       "    <tr>\n",
       "      <th>4</th>\n",
       "      <td>431534</td>\n",
       "      <td>1</td>\n",
       "      <td>5</td>\n",
       "      <td>4</td>\n",
       "      <td>15</td>\n",
       "      <td>28.0</td>\n",
       "      <td>False</td>\n",
       "      <td>196</td>\n",
       "      <td>1</td>\n",
       "      <td>1</td>\n",
       "      <td>...</td>\n",
       "      <td>Mid-range product</td>\n",
       "      <td>Least busy</td>\n",
       "      <td>Slowest days</td>\n",
       "      <td>Most orders</td>\n",
       "      <td>10</td>\n",
       "      <td>New Customer</td>\n",
       "      <td>6.37</td>\n",
       "      <td>Low spender</td>\n",
       "      <td>20.5</td>\n",
       "      <td>Non-frequent customer</td>\n",
       "    </tr>\n",
       "  </tbody>\n",
       "</table>\n",
       "<p>5 rows × 24 columns</p>\n",
       "</div>"
      ],
      "text/plain": [
       "   order_id  user_id  order_number  orders_day_of_week  order_hour_of_day  \\\n",
       "0   2539329        1             1                   2                  8   \n",
       "1   2398795        1             2                   3                  7   \n",
       "2    473747        1             3                   3                 12   \n",
       "3   2254736        1             4                   4                  7   \n",
       "4    431534        1             5                   4                 15   \n",
       "\n",
       "   days_since_prior_order  new_customer  product_id  add_to_cart_order  \\\n",
       "0                     NaN          True         196                  1   \n",
       "1                    15.0         False         196                  1   \n",
       "2                    21.0         False         196                  1   \n",
       "3                    29.0         False         196                  1   \n",
       "4                    28.0         False         196                  1   \n",
       "\n",
       "   reordered  ...        price_range     busiest_day  busiest_2_days  \\\n",
       "0          0  ...  Mid-range product  Regularly busy  Regularly busy   \n",
       "1          1  ...  Mid-range product  Regularly busy    Slowest days   \n",
       "2          1  ...  Mid-range product  Regularly busy    Slowest days   \n",
       "3          1  ...  Mid-range product      Least busy    Slowest days   \n",
       "4          1  ...  Mid-range product      Least busy    Slowest days   \n",
       "\n",
       "   busiest_period_of_day max_order  loyalty_flag mean_prices spending_flag  \\\n",
       "0         Average orders        10  New Customer        6.37   Low spender   \n",
       "1         Average orders        10  New Customer        6.37   Low spender   \n",
       "2            Most orders        10  New Customer        6.37   Low spender   \n",
       "3         Average orders        10  New Customer        6.37   Low spender   \n",
       "4            Most orders        10  New Customer        6.37   Low spender   \n",
       "\n",
       "   median_days_since_order        order_frequency  \n",
       "0                     20.5  Non-frequent customer  \n",
       "1                     20.5  Non-frequent customer  \n",
       "2                     20.5  Non-frequent customer  \n",
       "3                     20.5  Non-frequent customer  \n",
       "4                     20.5  Non-frequent customer  \n",
       "\n",
       "[5 rows x 24 columns]"
      ]
     },
     "execution_count": 3,
     "metadata": {},
     "output_type": "execute_result"
    }
   ],
   "source": [
    "# Import merged orders and products data (including new columns)\n",
    "df_ords_prods_merge = pd.read_pickle(os.path.join(path, '02 Data', 'Prepared Data', 'orders_products_derived_aggregated.pkl'))\n",
    "df_ords_prods_merge.head()"
   ]
  },
  {
   "cell_type": "code",
   "execution_count": 4,
   "id": "a5591ca9",
   "metadata": {},
   "outputs": [
    {
     "data": {
      "text/plain": [
       "(32433030, 24)"
      ]
     },
     "execution_count": 4,
     "metadata": {},
     "output_type": "execute_result"
    }
   ],
   "source": [
    "# Check shape of df_ords_prods_merge\n",
    "df_ords_prods_merge.shape"
   ]
  },
  {
   "cell_type": "markdown",
   "id": "27072afb",
   "metadata": {},
   "source": [
    "# 03 Creating and export bar charts"
   ]
  },
  {
   "cell_type": "code",
   "execution_count": 113,
   "id": "44e84a1b",
   "metadata": {},
   "outputs": [
    {
     "data": {
      "image/png": "[encoded data removed]",
      "text/plain": [
       "<Figure size 432x288 with 1 Axes>"
      ]
     },
     "metadata": {
      "needs_background": "light"
     },
     "output_type": "display_data"
    }
   ],
   "source": [
    "# Create a bar chart for the orders_day_of_the_week column\n",
    "bar = df_ords_prods_merge['orders_day_of_week'].value_counts().sort_index().plot.bar(\n",
    "    color = ['green', 'green', 'blue', 'blue', 'blue', 'blue', 'blue'], \n",
    "    title = \"Number of orders each day of the week\",\n",
    "    xlabel = \"Day of the week (0 = Saturday, 1 = Sunday, etc.)\",\n",
    "    ylabel = \"Number of orders\")\n",
    "bar.tick_params(axis='x', rotation=0)\n",
    "bar.ticklabel_format(useOffset=False, style='plain', axis='y')"
   ]
  },
  {
   "cell_type": "markdown",
   "id": "462bfc12",
   "metadata": {},
   "source": [
    "#### The green bars are the weekend, the blue bars are the weekdays. More orders are placed on weekends than during the week."
   ]
  },
  {
   "cell_type": "code",
   "execution_count": 114,
   "id": "eca141c8",
   "metadata": {},
   "outputs": [],
   "source": [
    "# Export bar object created in previous step\n",
    "bar.figure.savefig(os.path.join(path, '04 Analysis', 'Visualizations', '01-bar_orders_dow.png'))"
   ]
  },
  {
   "cell_type": "markdown",
   "id": "49e323da",
   "metadata": {},
   "source": [
    "# 04 Create and export histograms and scatterplots"
   ]
  },
  {
   "cell_type": "code",
   "execution_count": 115,
   "id": "3b800a04",
   "metadata": {},
   "outputs": [
    {
     "data": {
      "image/png": "[encoded data removed]",
      "text/plain": [
       "<Figure size 432x288 with 1 Axes>"
      ]
     },
     "metadata": {
      "needs_background": "light"
     },
     "output_type": "display_data"
    }
   ],
   "source": [
    "# Create a histogram of the \"prices column\"\n",
    "hist = df_ords_prods_merge['prices'].plot.hist(\n",
    "    bins=70, \n",
    "    color = ['green'],\n",
    "    title = \"Price range of products\")\n",
    "hist.set_xlabel(\"Price of products (dollars)\")\n",
    "hist.set_ylabel(\"Number of products\")\n",
    "hist.ticklabel_format(useOffset=False, style='plain', axis='y')"
   ]
  },
  {
   "cell_type": "markdown",
   "id": "b47ed196",
   "metadata": {},
   "source": [
    "#### The fix for the two very high prices was moved to the notebook on data checks. The histogram shows that most products are 15 dollars or less. The maximum product price is 25 dollars."
   ]
  },
  {
   "cell_type": "code",
   "execution_count": 117,
   "id": "db9baef7",
   "metadata": {},
   "outputs": [],
   "source": [
    "# Export histogram\n",
    "hist.figure.savefig(os.path.join(path, '04 Analysis', 'Visualizations', '02-hist_prices.png'), bbox_inches='tight')"
   ]
  },
  {
   "cell_type": "code",
   "execution_count": 56,
   "id": "86ae9518",
   "metadata": {
    "scrolled": false
   },
   "outputs": [
    {
     "data": {
      "image/png": "[encoded data removed]",
      "text/plain": [
       "<Figure size 432x288 with 1 Axes>"
      ]
     },
     "metadata": {
      "needs_background": "light"
     },
     "output_type": "display_data"
    }
   ],
   "source": [
    "# Create a scatterplot of the \"prices\" column\n",
    "scatter = sns.scatterplot(\n",
    "    x = 'prices',\n",
    "    y = 'prices',\n",
    "    data = df_ords_prods_merge,\n",
    "    color=['green']).set(title='Scatterplot of product prices', xlabel='Prices (dollars)', ylabel='Prices (dollars)')"
   ]
  },
  {
   "cell_type": "markdown",
   "id": "c89f594d",
   "metadata": {},
   "source": [
    "#### The scatterplot shows that the anaomalously high prices, which were changed to NaN, are not skewing the data. The price range is 0-25 dollars."
   ]
  },
  {
   "cell_type": "code",
   "execution_count": 119,
   "id": "2dc3f8dc",
   "metadata": {},
   "outputs": [],
   "source": [
    "# Export scatter object \n",
    "scatter[1].figure.savefig(os.path.join(path, '04 Analysis', 'Visualizations', '03-scatter_prices.png'))"
   ]
  },
  {
   "cell_type": "markdown",
   "id": "179bea5c",
   "metadata": {},
   "source": [
    "# 05 Sampling data"
   ]
  },
  {
   "cell_type": "code",
   "execution_count": 59,
   "id": "c77d257e",
   "metadata": {},
   "outputs": [],
   "source": [
    "# Create the random samples\n",
    "np.random.seed(4)"
   ]
  },
  {
   "cell_type": "code",
   "execution_count": 60,
   "id": "2cd58564",
   "metadata": {},
   "outputs": [
    {
     "data": {
      "text/plain": [
       "array([False,  True, False, ...,  True, False,  True])"
      ]
     },
     "execution_count": 60,
     "metadata": {},
     "output_type": "execute_result"
    }
   ],
   "source": [
    "# Create a boolean test for np.random.rand() \n",
    "dev = np.random.rand(len(df_ords_prods_merge)) <= 0.7\n",
    "dev"
   ]
  },
  {
   "cell_type": "code",
   "execution_count": 61,
   "id": "596b7e13",
   "metadata": {},
   "outputs": [
    {
     "data": {
      "text/plain": [
       "32433030"
      ]
     },
     "execution_count": 61,
     "metadata": {},
     "output_type": "execute_result"
    }
   ],
   "source": [
    "# Check length of dev\n",
    "len(dev)"
   ]
  },
  {
   "cell_type": "code",
   "execution_count": 63,
   "id": "84aa853e",
   "metadata": {},
   "outputs": [],
   "source": [
    "# Store 30% of samples in small dataframe\n",
    "small = df_ords_prods_merge[~dev]"
   ]
  },
  {
   "cell_type": "code",
   "execution_count": 64,
   "id": "0e5aefaa",
   "metadata": {},
   "outputs": [
    {
     "data": {
      "text/html": [
       "<div>\n",
       "<style scoped>\n",
       "    .dataframe tbody tr th:only-of-type {\n",
       "        vertical-align: middle;\n",
       "    }\n",
       "\n",
       "    .dataframe tbody tr th {\n",
       "        vertical-align: top;\n",
       "    }\n",
       "\n",
       "    .dataframe thead th {\n",
       "        text-align: right;\n",
       "    }\n",
       "</style>\n",
       "<table border=\"1\" class=\"dataframe\">\n",
       "  <thead>\n",
       "    <tr style=\"text-align: right;\">\n",
       "      <th></th>\n",
       "      <th>order_id</th>\n",
       "      <th>user_id</th>\n",
       "      <th>order_number</th>\n",
       "      <th>orders_day_of_week</th>\n",
       "      <th>order_hour_of_day</th>\n",
       "      <th>days_since_prior_order</th>\n",
       "      <th>product_id</th>\n",
       "      <th>add_to_cart_order</th>\n",
       "      <th>reordered</th>\n",
       "      <th>aisle_id</th>\n",
       "      <th>department_id</th>\n",
       "      <th>prices</th>\n",
       "      <th>max_order</th>\n",
       "      <th>mean_prices</th>\n",
       "      <th>median_days_since_order</th>\n",
       "    </tr>\n",
       "  </thead>\n",
       "  <tbody>\n",
       "    <tr>\n",
       "      <th>count</th>\n",
       "      <td>9.729386e+06</td>\n",
       "      <td>9.729386e+06</td>\n",
       "      <td>9.729386e+06</td>\n",
       "      <td>9.729386e+06</td>\n",
       "      <td>9.729386e+06</td>\n",
       "      <td>9107008.0</td>\n",
       "      <td>9.729386e+06</td>\n",
       "      <td>9.729386e+06</td>\n",
       "      <td>9.729386e+06</td>\n",
       "      <td>9.729386e+06</td>\n",
       "      <td>9.729386e+06</td>\n",
       "      <td>9.727816e+06</td>\n",
       "      <td>9.729386e+06</td>\n",
       "      <td>9.729386e+06</td>\n",
       "      <td>9729386.0</td>\n",
       "    </tr>\n",
       "    <tr>\n",
       "      <th>mean</th>\n",
       "      <td>1.710331e+06</td>\n",
       "      <td>1.029160e+05</td>\n",
       "      <td>1.714599e+01</td>\n",
       "      <td>2.739678e+00</td>\n",
       "      <td>1.342404e+01</td>\n",
       "      <td>NaN</td>\n",
       "      <td>2.557620e+04</td>\n",
       "      <td>8.351096e+00</td>\n",
       "      <td>5.898280e-01</td>\n",
       "      <td>7.121338e+01</td>\n",
       "      <td>9.925869e+00</td>\n",
       "      <td>7.814311e+00</td>\n",
       "      <td>3.305439e+01</td>\n",
       "      <td>7.911092e+00</td>\n",
       "      <td>NaN</td>\n",
       "    </tr>\n",
       "    <tr>\n",
       "      <th>std</th>\n",
       "      <td>9.872479e+05</td>\n",
       "      <td>5.945863e+04</td>\n",
       "      <td>1.752835e+01</td>\n",
       "      <td>2.090527e+00</td>\n",
       "      <td>4.246662e+00</td>\n",
       "      <td>0.0</td>\n",
       "      <td>1.409624e+04</td>\n",
       "      <td>7.123877e+00</td>\n",
       "      <td>4.918648e-01</td>\n",
       "      <td>3.820736e+01</td>\n",
       "      <td>6.281161e+00</td>\n",
       "      <td>4.212772e+00</td>\n",
       "      <td>2.514795e+01</td>\n",
       "      <td>7.373279e-01</td>\n",
       "      <td>0.0</td>\n",
       "    </tr>\n",
       "    <tr>\n",
       "      <th>min</th>\n",
       "      <td>2.000000e+00</td>\n",
       "      <td>1.000000e+00</td>\n",
       "      <td>1.000000e+00</td>\n",
       "      <td>0.000000e+00</td>\n",
       "      <td>0.000000e+00</td>\n",
       "      <td>0.0</td>\n",
       "      <td>1.000000e+00</td>\n",
       "      <td>1.000000e+00</td>\n",
       "      <td>0.000000e+00</td>\n",
       "      <td>1.000000e+00</td>\n",
       "      <td>1.000000e+00</td>\n",
       "      <td>1.000000e+00</td>\n",
       "      <td>3.000000e+00</td>\n",
       "      <td>1.000000e+00</td>\n",
       "      <td>0.0</td>\n",
       "    </tr>\n",
       "    <tr>\n",
       "      <th>25%</th>\n",
       "      <td>8.554780e+05</td>\n",
       "      <td>5.140900e+04</td>\n",
       "      <td>5.000000e+00</td>\n",
       "      <td>1.000000e+00</td>\n",
       "      <td>1.000000e+01</td>\n",
       "      <td>5.0</td>\n",
       "      <td>1.353500e+04</td>\n",
       "      <td>3.000000e+00</td>\n",
       "      <td>0.000000e+00</td>\n",
       "      <td>3.100000e+01</td>\n",
       "      <td>4.000000e+00</td>\n",
       "      <td>4.200000e+00</td>\n",
       "      <td>1.300000e+01</td>\n",
       "      <td>7.380000e+00</td>\n",
       "      <td>6.0</td>\n",
       "    </tr>\n",
       "    <tr>\n",
       "      <th>50%</th>\n",
       "      <td>1.710292e+06</td>\n",
       "      <td>1.025940e+05</td>\n",
       "      <td>1.100000e+01</td>\n",
       "      <td>3.000000e+00</td>\n",
       "      <td>1.300000e+01</td>\n",
       "      <td>8.0</td>\n",
       "      <td>2.524600e+04</td>\n",
       "      <td>6.000000e+00</td>\n",
       "      <td>1.000000e+00</td>\n",
       "      <td>8.300000e+01</td>\n",
       "      <td>9.000000e+00</td>\n",
       "      <td>7.400000e+00</td>\n",
       "      <td>2.600000e+01</td>\n",
       "      <td>7.820000e+00</td>\n",
       "      <td>8.0</td>\n",
       "    </tr>\n",
       "    <tr>\n",
       "      <th>75%</th>\n",
       "      <td>2.565022e+06</td>\n",
       "      <td>1.543638e+05</td>\n",
       "      <td>2.400000e+01</td>\n",
       "      <td>5.000000e+00</td>\n",
       "      <td>1.600000e+01</td>\n",
       "      <td>15.0</td>\n",
       "      <td>3.793500e+04</td>\n",
       "      <td>1.100000e+01</td>\n",
       "      <td>1.000000e+00</td>\n",
       "      <td>1.070000e+02</td>\n",
       "      <td>1.600000e+01</td>\n",
       "      <td>1.130000e+01</td>\n",
       "      <td>4.700000e+01</td>\n",
       "      <td>8.230000e+00</td>\n",
       "      <td>13.0</td>\n",
       "    </tr>\n",
       "    <tr>\n",
       "      <th>max</th>\n",
       "      <td>3.421083e+06</td>\n",
       "      <td>2.062090e+05</td>\n",
       "      <td>9.900000e+01</td>\n",
       "      <td>6.000000e+00</td>\n",
       "      <td>2.300000e+01</td>\n",
       "      <td>30.0</td>\n",
       "      <td>4.968800e+04</td>\n",
       "      <td>1.430000e+02</td>\n",
       "      <td>1.000000e+00</td>\n",
       "      <td>1.340000e+02</td>\n",
       "      <td>2.100000e+01</td>\n",
       "      <td>2.500000e+01</td>\n",
       "      <td>9.900000e+01</td>\n",
       "      <td>2.000000e+01</td>\n",
       "      <td>30.0</td>\n",
       "    </tr>\n",
       "  </tbody>\n",
       "</table>\n",
       "</div>"
      ],
      "text/plain": [
       "           order_id       user_id  order_number  orders_day_of_week  \\\n",
       "count  9.729386e+06  9.729386e+06  9.729386e+06        9.729386e+06   \n",
       "mean   1.710331e+06  1.029160e+05  1.714599e+01        2.739678e+00   \n",
       "std    9.872479e+05  5.945863e+04  1.752835e+01        2.090527e+00   \n",
       "min    2.000000e+00  1.000000e+00  1.000000e+00        0.000000e+00   \n",
       "25%    8.554780e+05  5.140900e+04  5.000000e+00        1.000000e+00   \n",
       "50%    1.710292e+06  1.025940e+05  1.100000e+01        3.000000e+00   \n",
       "75%    2.565022e+06  1.543638e+05  2.400000e+01        5.000000e+00   \n",
       "max    3.421083e+06  2.062090e+05  9.900000e+01        6.000000e+00   \n",
       "\n",
       "       order_hour_of_day  days_since_prior_order    product_id  \\\n",
       "count       9.729386e+06               9107008.0  9.729386e+06   \n",
       "mean        1.342404e+01                     NaN  2.557620e+04   \n",
       "std         4.246662e+00                     0.0  1.409624e+04   \n",
       "min         0.000000e+00                     0.0  1.000000e+00   \n",
       "25%         1.000000e+01                     5.0  1.353500e+04   \n",
       "50%         1.300000e+01                     8.0  2.524600e+04   \n",
       "75%         1.600000e+01                    15.0  3.793500e+04   \n",
       "max         2.300000e+01                    30.0  4.968800e+04   \n",
       "\n",
       "       add_to_cart_order     reordered      aisle_id  department_id  \\\n",
       "count       9.729386e+06  9.729386e+06  9.729386e+06   9.729386e+06   \n",
       "mean        8.351096e+00  5.898280e-01  7.121338e+01   9.925869e+00   \n",
       "std         7.123877e+00  4.918648e-01  3.820736e+01   6.281161e+00   \n",
       "min         1.000000e+00  0.000000e+00  1.000000e+00   1.000000e+00   \n",
       "25%         3.000000e+00  0.000000e+00  3.100000e+01   4.000000e+00   \n",
       "50%         6.000000e+00  1.000000e+00  8.300000e+01   9.000000e+00   \n",
       "75%         1.100000e+01  1.000000e+00  1.070000e+02   1.600000e+01   \n",
       "max         1.430000e+02  1.000000e+00  1.340000e+02   2.100000e+01   \n",
       "\n",
       "             prices     max_order   mean_prices  median_days_since_order  \n",
       "count  9.727816e+06  9.729386e+06  9.729386e+06                9729386.0  \n",
       "mean   7.814311e+00  3.305439e+01  7.911092e+00                      NaN  \n",
       "std    4.212772e+00  2.514795e+01  7.373279e-01                      0.0  \n",
       "min    1.000000e+00  3.000000e+00  1.000000e+00                      0.0  \n",
       "25%    4.200000e+00  1.300000e+01  7.380000e+00                      6.0  \n",
       "50%    7.400000e+00  2.600000e+01  7.820000e+00                      8.0  \n",
       "75%    1.130000e+01  4.700000e+01  8.230000e+00                     13.0  \n",
       "max    2.500000e+01  9.900000e+01  2.000000e+01                     30.0  "
      ]
     },
     "execution_count": 64,
     "metadata": {},
     "output_type": "execute_result"
    }
   ],
   "source": [
    "# Check statistics of small\n",
    "small.describe()"
   ]
  },
  {
   "cell_type": "code",
   "execution_count": 67,
   "id": "726db509",
   "metadata": {},
   "outputs": [
    {
     "data": {
      "text/plain": [
       "0.29998387446377967"
      ]
     },
     "execution_count": 67,
     "metadata": {},
     "output_type": "execute_result"
    }
   ],
   "source": [
    "# Check size of small compared to original dataframe\n",
    "len(small)/len(df_ords_prods_merge)"
   ]
  },
  {
   "cell_type": "markdown",
   "id": "bbc0f499",
   "metadata": {},
   "source": [
    "#### The length of small is 30% of the length of df_ords_prods_merge"
   ]
  },
  {
   "cell_type": "code",
   "execution_count": 69,
   "id": "3e4f2545",
   "metadata": {},
   "outputs": [
    {
     "data": {
      "text/html": [
       "<div>\n",
       "<style scoped>\n",
       "    .dataframe tbody tr th:only-of-type {\n",
       "        vertical-align: middle;\n",
       "    }\n",
       "\n",
       "    .dataframe tbody tr th {\n",
       "        vertical-align: top;\n",
       "    }\n",
       "\n",
       "    .dataframe thead th {\n",
       "        text-align: right;\n",
       "    }\n",
       "</style>\n",
       "<table border=\"1\" class=\"dataframe\">\n",
       "  <thead>\n",
       "    <tr style=\"text-align: right;\">\n",
       "      <th></th>\n",
       "      <th>orders_day_of_week</th>\n",
       "      <th>prices</th>\n",
       "    </tr>\n",
       "  </thead>\n",
       "  <tbody>\n",
       "    <tr>\n",
       "      <th>32432997</th>\n",
       "      <td>6</td>\n",
       "      <td>2.8</td>\n",
       "    </tr>\n",
       "    <tr>\n",
       "      <th>32433002</th>\n",
       "      <td>0</td>\n",
       "      <td>8.7</td>\n",
       "    </tr>\n",
       "    <tr>\n",
       "      <th>32433005</th>\n",
       "      <td>1</td>\n",
       "      <td>10.2</td>\n",
       "    </tr>\n",
       "    <tr>\n",
       "      <th>32433007</th>\n",
       "      <td>4</td>\n",
       "      <td>10.3</td>\n",
       "    </tr>\n",
       "    <tr>\n",
       "      <th>32433008</th>\n",
       "      <td>5</td>\n",
       "      <td>2.6</td>\n",
       "    </tr>\n",
       "    <tr>\n",
       "      <th>32433009</th>\n",
       "      <td>1</td>\n",
       "      <td>2.6</td>\n",
       "    </tr>\n",
       "    <tr>\n",
       "      <th>32433015</th>\n",
       "      <td>4</td>\n",
       "      <td>3.7</td>\n",
       "    </tr>\n",
       "    <tr>\n",
       "      <th>32433018</th>\n",
       "      <td>4</td>\n",
       "      <td>3.7</td>\n",
       "    </tr>\n",
       "    <tr>\n",
       "      <th>32433020</th>\n",
       "      <td>3</td>\n",
       "      <td>3.7</td>\n",
       "    </tr>\n",
       "    <tr>\n",
       "      <th>32433028</th>\n",
       "      <td>3</td>\n",
       "      <td>6.9</td>\n",
       "    </tr>\n",
       "  </tbody>\n",
       "</table>\n",
       "</div>"
      ],
      "text/plain": [
       "          orders_day_of_week  prices\n",
       "32432997                   6     2.8\n",
       "32433002                   0     8.7\n",
       "32433005                   1    10.2\n",
       "32433007                   4    10.3\n",
       "32433008                   5     2.6\n",
       "32433009                   1     2.6\n",
       "32433015                   4     3.7\n",
       "32433018                   4     3.7\n",
       "32433020                   3     3.7\n",
       "32433028                   3     6.9"
      ]
     },
     "execution_count": 69,
     "metadata": {},
     "output_type": "execute_result"
    }
   ],
   "source": [
    "# Reduce samples to only columns needed for the chart (to speed up)\n",
    "df_2 = small[['orders_day_of_week', 'prices']]\n",
    "df_2.tail(10)"
   ]
  },
  {
   "cell_type": "markdown",
   "id": "5489b0d3",
   "metadata": {},
   "source": [
    "# 06 Create and export line chart"
   ]
  },
  {
   "cell_type": "code",
   "execution_count": 70,
   "id": "da12c763",
   "metadata": {},
   "outputs": [
    {
     "data": {
      "image/png": "[encoded data removed]",
      "text/plain": [
       "<Figure size 432x288 with 1 Axes>"
      ]
     },
     "metadata": {
      "needs_background": "light"
     },
     "output_type": "display_data"
    }
   ],
   "source": [
    "# Create line chart of small dataframe\n",
    "line_order_dow = sns.lineplot(\n",
    "    data = df_2,\n",
    "    x = 'orders_day_of_week',\n",
    "    y = 'prices').set(title='Prices of items ordered each day of the week', xlabel='Day of week (0 = Saturday, 1 = Sunday, etc.)', ylabel='Prices (dollars)')"
   ]
  },
  {
   "cell_type": "markdown",
   "id": "23c6a4e3",
   "metadata": {},
   "source": [
    "#### This doesn't look like the example, but I've checked my code and I think this is what my data looks like. I suspect that the random array is different: when I looked at dev, it did not match dev in the example. However, it does show that more money is spent on Friday and Saturday."
   ]
  },
  {
   "cell_type": "code",
   "execution_count": 120,
   "id": "25ce0fff",
   "metadata": {},
   "outputs": [],
   "source": [
    "# Export line chart\n",
    "line_order_dow[1].figure.savefig(os.path.join(path, '04 Analysis', 'Visualizations', '04-line_prices_day_of_week.png'))"
   ]
  },
  {
   "cell_type": "markdown",
   "id": "6375d705",
   "metadata": {},
   "source": [
    "# 07 Create an order_hour_of_day histogram"
   ]
  },
  {
   "cell_type": "code",
   "execution_count": 132,
   "id": "3dec7fad",
   "metadata": {},
   "outputs": [
    {
     "data": {
      "image/png": "[encoded data removed]",
      "text/plain": [
       "<Figure size 432x288 with 1 Axes>"
      ]
     },
     "metadata": {
      "needs_background": "light"
     },
     "output_type": "display_data"
    }
   ],
   "source": [
    "# Create a histogram of the order_hour_of_day column\n",
    "from matplotlib import ticker\n",
    "hist2 = df_ords_prods_merge['order_hour_of_day'].plot.hist(\n",
    "    bins=24,\n",
    "    color = ['green'],\n",
    "    title = \"Number of orders each hour of the day\")\n",
    "hist2.set_xlabel('Hour of Day')\n",
    "hist2.set_ylabel('Number of Orders')\n",
    "hist2.ticklabel_format(useOffset=False, style='plain', axis='y')\n",
    "hist2.xaxis.set_major_locator(ticker.MultipleLocator(2))"
   ]
  },
  {
   "cell_type": "markdown",
   "id": "6a55a90e",
   "metadata": {},
   "source": [
    "#### This histogram shows that most orders are during the day, peaking from 10 to 15 (3pm). This is consistent with what was shown in a previous exercise when an order_hour_of_day flag was set. Very few orders are placed between midnight and 5 am."
   ]
  },
  {
   "cell_type": "code",
   "execution_count": 133,
   "id": "1af63de2",
   "metadata": {},
   "outputs": [],
   "source": [
    "# Export hist object \n",
    "hist2.figure.savefig(os.path.join(path, '04 Analysis', 'Visualizations', '05-hist_order_hour.png'), bbox_inches='tight')"
   ]
  },
  {
   "cell_type": "markdown",
   "id": "0f45e5b9",
   "metadata": {},
   "source": [
    "# 08 Create a bar chart from the loyalty_flag column"
   ]
  },
  {
   "cell_type": "code",
   "execution_count": 88,
   "id": "ac66494b",
   "metadata": {},
   "outputs": [
    {
     "data": {
      "image/png": "[encoded data removed]",
      "text/plain": [
       "<Figure size 432x288 with 1 Axes>"
      ]
     },
     "metadata": {
      "needs_background": "light"
     },
     "output_type": "display_data"
    }
   ],
   "source": [
    "# Create a bar chart for the loyalty_flag column\n",
    "bar2 = df_ords_prods_merge['loyalty_flag'].value_counts().plot.bar(\n",
    "    color = ['green'],\n",
    "    title = \"Distribution of Customers in Terms of Loyalty\",\n",
    "    ylabel = \"Number of customers\")\n",
    "bar2.ticklabel_format(useOffset=False, style='plain', axis='y')\n",
    "bar2.tick_params(axis='x', rotation=45)"
   ]
  },
  {
   "cell_type": "markdown",
   "id": "a7c84f34",
   "metadata": {},
   "source": [
    "#### The bar chart shows that regular customers make up the largest group, followed by loyal customers and new customers."
   ]
  },
  {
   "cell_type": "code",
   "execution_count": 134,
   "id": "43c61c0a",
   "metadata": {},
   "outputs": [],
   "source": [
    "# Export bar object created in previous step\n",
    "bar2.figure.savefig(os.path.join(path, '04 Analysis', 'Visualizations', '06-bar_loyalty_flag.png'), bbox_inches='tight')"
   ]
  },
  {
   "cell_type": "markdown",
   "id": "f1d54326",
   "metadata": {},
   "source": [
    "# 09 Create a line chart showing expenditure vs hour of day"
   ]
  },
  {
   "cell_type": "code",
   "execution_count": 136,
   "id": "b984c706",
   "metadata": {},
   "outputs": [
    {
     "data": {
      "text/html": [
       "<div>\n",
       "<style scoped>\n",
       "    .dataframe tbody tr th:only-of-type {\n",
       "        vertical-align: middle;\n",
       "    }\n",
       "\n",
       "    .dataframe tbody tr th {\n",
       "        vertical-align: top;\n",
       "    }\n",
       "\n",
       "    .dataframe thead th {\n",
       "        text-align: right;\n",
       "    }\n",
       "</style>\n",
       "<table border=\"1\" class=\"dataframe\">\n",
       "  <thead>\n",
       "    <tr style=\"text-align: right;\">\n",
       "      <th></th>\n",
       "      <th>order_hour_of_day</th>\n",
       "      <th>prices</th>\n",
       "    </tr>\n",
       "  </thead>\n",
       "  <tbody>\n",
       "    <tr>\n",
       "      <th>32432997</th>\n",
       "      <td>20</td>\n",
       "      <td>2.8</td>\n",
       "    </tr>\n",
       "    <tr>\n",
       "      <th>32433002</th>\n",
       "      <td>16</td>\n",
       "      <td>8.7</td>\n",
       "    </tr>\n",
       "    <tr>\n",
       "      <th>32433005</th>\n",
       "      <td>7</td>\n",
       "      <td>10.2</td>\n",
       "    </tr>\n",
       "    <tr>\n",
       "      <th>32433007</th>\n",
       "      <td>20</td>\n",
       "      <td>10.3</td>\n",
       "    </tr>\n",
       "    <tr>\n",
       "      <th>32433008</th>\n",
       "      <td>16</td>\n",
       "      <td>2.6</td>\n",
       "    </tr>\n",
       "    <tr>\n",
       "      <th>32433009</th>\n",
       "      <td>13</td>\n",
       "      <td>2.6</td>\n",
       "    </tr>\n",
       "    <tr>\n",
       "      <th>32433015</th>\n",
       "      <td>9</td>\n",
       "      <td>3.7</td>\n",
       "    </tr>\n",
       "    <tr>\n",
       "      <th>32433018</th>\n",
       "      <td>13</td>\n",
       "      <td>3.7</td>\n",
       "    </tr>\n",
       "    <tr>\n",
       "      <th>32433020</th>\n",
       "      <td>10</td>\n",
       "      <td>3.7</td>\n",
       "    </tr>\n",
       "    <tr>\n",
       "      <th>32433028</th>\n",
       "      <td>5</td>\n",
       "      <td>6.9</td>\n",
       "    </tr>\n",
       "  </tbody>\n",
       "</table>\n",
       "</div>"
      ],
      "text/plain": [
       "          order_hour_of_day  prices\n",
       "32432997                 20     2.8\n",
       "32433002                 16     8.7\n",
       "32433005                  7    10.2\n",
       "32433007                 20    10.3\n",
       "32433008                 16     2.6\n",
       "32433009                 13     2.6\n",
       "32433015                  9     3.7\n",
       "32433018                 13     3.7\n",
       "32433020                 10     3.7\n",
       "32433028                  5     6.9"
      ]
     },
     "execution_count": 136,
     "metadata": {},
     "output_type": "execute_result"
    }
   ],
   "source": [
    "# Reduce samples to only columns needed for the chart (to speed up)\n",
    "df_3 = small[['order_hour_of_day', 'prices']]\n",
    "df_3.tail(10)"
   ]
  },
  {
   "cell_type": "code",
   "execution_count": 139,
   "id": "812dbc49",
   "metadata": {},
   "outputs": [
    {
     "data": {
      "text/plain": [
       "[[<matplotlib.axis.XTick at 0x13e4dde8100>,\n",
       "  <matplotlib.axis.XTick at 0x13e4dde8850>,\n",
       "  <matplotlib.axis.XTick at 0x13e4c01ef40>,\n",
       "  <matplotlib.axis.XTick at 0x13e4c07fcd0>,\n",
       "  <matplotlib.axis.XTick at 0x13e4dd57bb0>,\n",
       "  <matplotlib.axis.XTick at 0x13e4dd57550>,\n",
       "  <matplotlib.axis.XTick at 0x13e4c08b190>,\n",
       "  <matplotlib.axis.XTick at 0x13e4dd83040>,\n",
       "  <matplotlib.axis.XTick at 0x13e4c0763a0>,\n",
       "  <matplotlib.axis.XTick at 0x13e4c07fac0>,\n",
       "  <matplotlib.axis.XTick at 0x13e4bf10850>,\n",
       "  <matplotlib.axis.XTick at 0x13e4bf10970>,\n",
       "  <matplotlib.axis.XTick at 0x13e51fe8520>]]"
      ]
     },
     "execution_count": 139,
     "metadata": {},
     "output_type": "execute_result"
    },
    {
     "data": {
      "image/png": "[encoded data removed]",
      "text/plain": [
       "<Figure size 432x288 with 1 Axes>"
      ]
     },
     "metadata": {
      "needs_background": "light"
     },
     "output_type": "display_data"
    }
   ],
   "source": [
    "# Create line chart of small dataframe\n",
    "line2 = sns.lineplot(\n",
    "    data = df_3,\n",
    "    x = 'order_hour_of_day',\n",
    "    y = 'prices')\n",
    "line2.set(title='Customer Expenditure Throughout the Day', xlabel='Hour of Day')\n",
    "line2.set(xticks=[0,2,4,6,8,10,12,14,16,18,20,22,24])"
   ]
  },
  {
   "cell_type": "markdown",
   "id": "652b2067",
   "metadata": {},
   "source": [
    "#### This chart shows that the most money is spent on orders placed between midnight (0) and 10am, and especially between ~3 and 6 am."
   ]
  },
  {
   "cell_type": "code",
   "execution_count": 141,
   "id": "f0ee5271",
   "metadata": {},
   "outputs": [],
   "source": [
    "# Export line object created previously\n",
    "line2.figure.savefig(os.path.join(path, '04 Analysis', 'Visualizations', '07-line_prices_hour_of_day.png'))"
   ]
  }
 ],
 "metadata": {
  "kernelspec": {
   "display_name": "Python 3 (ipykernel)",
   "language": "python",
   "name": "python3"
  },
  "language_info": {
   "codemirror_mode": {
    "name": "ipython",
    "version": 3
   },
   "file_extension": ".py",
   "mimetype": "text/x-python",
   "name": "python",
   "nbconvert_exporter": "python",
   "pygments_lexer": "ipython3",
   "version": "3.9.7"
  }
 },
 "nbformat": 4,
 "nbformat_minor": 5
}
