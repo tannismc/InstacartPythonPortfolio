{
 "cells": [
  {
   "cell_type": "markdown",
   "id": "c867958e",
   "metadata": {},
   "source": [
    "## Tannis McCartney\n",
    "## May 27, 2022\n",
    "\n",
    "### This notebook completes visualizations on the orders-products-customers dataframe."
   ]
  },
  {
   "cell_type": "markdown",
   "id": "7ec30624",
   "metadata": {},
   "source": [
    "## Contents:\n",
    "### 01 Import libraries\n",
    "### 02 Import data\n",
    "### 03 Create sample of data\n",
    "### 04 Compare age and number of dependents in line chart\n",
    "### 05 Compare age and spending power in a scatterplot"
   ]
  },
  {
   "cell_type": "markdown",
   "id": "5dd6e58d",
   "metadata": {},
   "source": [
    "# 01 Import libraries"
   ]
  },
  {
   "cell_type": "code",
   "execution_count": 1,
   "id": "54ee44d3",
   "metadata": {},
   "outputs": [],
   "source": [
    "# Import libraries for analysis and visualization\n",
    "import pandas as pd\n",
    "import numpy as np\n",
    "import os\n",
    "import matplotlib.pyplot as plt\n",
    "import seaborn as sns\n",
    "import scipy"
   ]
  },
  {
   "cell_type": "markdown",
   "id": "487e3bcf",
   "metadata": {},
   "source": [
    "# 02 Import data"
   ]
  },
  {
   "cell_type": "code",
   "execution_count": 2,
   "id": "2fad37f8",
   "metadata": {},
   "outputs": [],
   "source": [
    "# Turn project folder path into a string\n",
    "path = r'C:\\Users\\tmmcc\\Google Drive\\Data Analytics Bootcamp\\4 Python Fundamentals for Data Analysts\\05-2022 Instacart Basket Analysis'"
   ]
  },
  {
   "cell_type": "code",
   "execution_count": 3,
   "id": "483ac09a",
   "metadata": {},
   "outputs": [
    {
     "data": {
      "text/html": [
       "<div>\n",
       "<style scoped>\n",
       "    .dataframe tbody tr th:only-of-type {\n",
       "        vertical-align: middle;\n",
       "    }\n",
       "\n",
       "    .dataframe tbody tr th {\n",
       "        vertical-align: top;\n",
       "    }\n",
       "\n",
       "    .dataframe thead th {\n",
       "        text-align: right;\n",
       "    }\n",
       "</style>\n",
       "<table border=\"1\" class=\"dataframe\">\n",
       "  <thead>\n",
       "    <tr style=\"text-align: right;\">\n",
       "      <th></th>\n",
       "      <th>order_id</th>\n",
       "      <th>user_id</th>\n",
       "      <th>order_number</th>\n",
       "      <th>orders_day_of_week</th>\n",
       "      <th>order_hour_of_day</th>\n",
       "      <th>days_since_prior_order</th>\n",
       "      <th>new_customer</th>\n",
       "      <th>product_id</th>\n",
       "      <th>add_to_cart_order</th>\n",
       "      <th>reordered</th>\n",
       "      <th>...</th>\n",
       "      <th>mean_prices</th>\n",
       "      <th>spending_flag</th>\n",
       "      <th>median_days_since_order</th>\n",
       "      <th>order_frequency</th>\n",
       "      <th>state</th>\n",
       "      <th>age</th>\n",
       "      <th>date_joined</th>\n",
       "      <th>dependants</th>\n",
       "      <th>household_status</th>\n",
       "      <th>income</th>\n",
       "    </tr>\n",
       "  </thead>\n",
       "  <tbody>\n",
       "    <tr>\n",
       "      <th>0</th>\n",
       "      <td>2539329</td>\n",
       "      <td>1</td>\n",
       "      <td>1</td>\n",
       "      <td>2</td>\n",
       "      <td>8</td>\n",
       "      <td>NaN</td>\n",
       "      <td>True</td>\n",
       "      <td>196</td>\n",
       "      <td>1</td>\n",
       "      <td>0</td>\n",
       "      <td>...</td>\n",
       "      <td>6.37</td>\n",
       "      <td>Low spender</td>\n",
       "      <td>20.5</td>\n",
       "      <td>Non-frequent customer</td>\n",
       "      <td>Alabama</td>\n",
       "      <td>31</td>\n",
       "      <td>2/17/2019</td>\n",
       "      <td>3</td>\n",
       "      <td>married</td>\n",
       "      <td>40423</td>\n",
       "    </tr>\n",
       "    <tr>\n",
       "      <th>1</th>\n",
       "      <td>2398795</td>\n",
       "      <td>1</td>\n",
       "      <td>2</td>\n",
       "      <td>3</td>\n",
       "      <td>7</td>\n",
       "      <td>15.0</td>\n",
       "      <td>False</td>\n",
       "      <td>196</td>\n",
       "      <td>1</td>\n",
       "      <td>1</td>\n",
       "      <td>...</td>\n",
       "      <td>6.37</td>\n",
       "      <td>Low spender</td>\n",
       "      <td>20.5</td>\n",
       "      <td>Non-frequent customer</td>\n",
       "      <td>Alabama</td>\n",
       "      <td>31</td>\n",
       "      <td>2/17/2019</td>\n",
       "      <td>3</td>\n",
       "      <td>married</td>\n",
       "      <td>40423</td>\n",
       "    </tr>\n",
       "    <tr>\n",
       "      <th>2</th>\n",
       "      <td>473747</td>\n",
       "      <td>1</td>\n",
       "      <td>3</td>\n",
       "      <td>3</td>\n",
       "      <td>12</td>\n",
       "      <td>21.0</td>\n",
       "      <td>False</td>\n",
       "      <td>196</td>\n",
       "      <td>1</td>\n",
       "      <td>1</td>\n",
       "      <td>...</td>\n",
       "      <td>6.37</td>\n",
       "      <td>Low spender</td>\n",
       "      <td>20.5</td>\n",
       "      <td>Non-frequent customer</td>\n",
       "      <td>Alabama</td>\n",
       "      <td>31</td>\n",
       "      <td>2/17/2019</td>\n",
       "      <td>3</td>\n",
       "      <td>married</td>\n",
       "      <td>40423</td>\n",
       "    </tr>\n",
       "    <tr>\n",
       "      <th>3</th>\n",
       "      <td>2254736</td>\n",
       "      <td>1</td>\n",
       "      <td>4</td>\n",
       "      <td>4</td>\n",
       "      <td>7</td>\n",
       "      <td>29.0</td>\n",
       "      <td>False</td>\n",
       "      <td>196</td>\n",
       "      <td>1</td>\n",
       "      <td>1</td>\n",
       "      <td>...</td>\n",
       "      <td>6.37</td>\n",
       "      <td>Low spender</td>\n",
       "      <td>20.5</td>\n",
       "      <td>Non-frequent customer</td>\n",
       "      <td>Alabama</td>\n",
       "      <td>31</td>\n",
       "      <td>2/17/2019</td>\n",
       "      <td>3</td>\n",
       "      <td>married</td>\n",
       "      <td>40423</td>\n",
       "    </tr>\n",
       "    <tr>\n",
       "      <th>4</th>\n",
       "      <td>431534</td>\n",
       "      <td>1</td>\n",
       "      <td>5</td>\n",
       "      <td>4</td>\n",
       "      <td>15</td>\n",
       "      <td>28.0</td>\n",
       "      <td>False</td>\n",
       "      <td>196</td>\n",
       "      <td>1</td>\n",
       "      <td>1</td>\n",
       "      <td>...</td>\n",
       "      <td>6.37</td>\n",
       "      <td>Low spender</td>\n",
       "      <td>20.5</td>\n",
       "      <td>Non-frequent customer</td>\n",
       "      <td>Alabama</td>\n",
       "      <td>31</td>\n",
       "      <td>2/17/2019</td>\n",
       "      <td>3</td>\n",
       "      <td>married</td>\n",
       "      <td>40423</td>\n",
       "    </tr>\n",
       "  </tbody>\n",
       "</table>\n",
       "<p>5 rows × 30 columns</p>\n",
       "</div>"
      ],
      "text/plain": [
       "   order_id  user_id  order_number  orders_day_of_week  order_hour_of_day  \\\n",
       "0   2539329        1             1                   2                  8   \n",
       "1   2398795        1             2                   3                  7   \n",
       "2    473747        1             3                   3                 12   \n",
       "3   2254736        1             4                   4                  7   \n",
       "4    431534        1             5                   4                 15   \n",
       "\n",
       "   days_since_prior_order  new_customer  product_id  add_to_cart_order  \\\n",
       "0                     NaN          True         196                  1   \n",
       "1                    15.0         False         196                  1   \n",
       "2                    21.0         False         196                  1   \n",
       "3                    29.0         False         196                  1   \n",
       "4                    28.0         False         196                  1   \n",
       "\n",
       "   reordered  ... mean_prices  spending_flag  median_days_since_order  \\\n",
       "0          0  ...        6.37    Low spender                     20.5   \n",
       "1          1  ...        6.37    Low spender                     20.5   \n",
       "2          1  ...        6.37    Low spender                     20.5   \n",
       "3          1  ...        6.37    Low spender                     20.5   \n",
       "4          1  ...        6.37    Low spender                     20.5   \n",
       "\n",
       "         order_frequency    state age date_joined dependants  \\\n",
       "0  Non-frequent customer  Alabama  31   2/17/2019          3   \n",
       "1  Non-frequent customer  Alabama  31   2/17/2019          3   \n",
       "2  Non-frequent customer  Alabama  31   2/17/2019          3   \n",
       "3  Non-frequent customer  Alabama  31   2/17/2019          3   \n",
       "4  Non-frequent customer  Alabama  31   2/17/2019          3   \n",
       "\n",
       "   household_status income  \n",
       "0           married  40423  \n",
       "1           married  40423  \n",
       "2           married  40423  \n",
       "3           married  40423  \n",
       "4           married  40423  \n",
       "\n",
       "[5 rows x 30 columns]"
      ]
     },
     "execution_count": 3,
     "metadata": {},
     "output_type": "execute_result"
    }
   ],
   "source": [
    "# Import merged orders, products and customer data\n",
    "df_ords_cust_merge = pd.read_pickle(os.path.join(path, '02 Data', 'Prepared Data', 'orders_products_all.pkl'))\n",
    "df_ords_cust_merge.head()"
   ]
  },
  {
   "cell_type": "code",
   "execution_count": 4,
   "id": "21e2b322",
   "metadata": {},
   "outputs": [
    {
     "data": {
      "text/plain": [
       "(32433030, 30)"
      ]
     },
     "execution_count": 4,
     "metadata": {},
     "output_type": "execute_result"
    }
   ],
   "source": [
    "# Check shape of dataframe\n",
    "df_ords_cust_merge.shape"
   ]
  },
  {
   "cell_type": "markdown",
   "id": "22ef165c",
   "metadata": {},
   "source": [
    "# 03 Create a sample of the dataframe"
   ]
  },
  {
   "cell_type": "code",
   "execution_count": 5,
   "id": "d4a96ab4",
   "metadata": {},
   "outputs": [],
   "source": [
    "# Create the random samples\n",
    "np.random.seed(4)"
   ]
  },
  {
   "cell_type": "code",
   "execution_count": 6,
   "id": "81cc4ebe",
   "metadata": {},
   "outputs": [
    {
     "data": {
      "text/plain": [
       "array([False,  True, False, ...,  True, False,  True])"
      ]
     },
     "execution_count": 6,
     "metadata": {},
     "output_type": "execute_result"
    }
   ],
   "source": [
    "# Create a boolean test for np.random.rand() \n",
    "dev = np.random.rand(len(df_ords_cust_merge)) <= 0.7\n",
    "dev"
   ]
  },
  {
   "cell_type": "code",
   "execution_count": 7,
   "id": "00eb8365",
   "metadata": {},
   "outputs": [],
   "source": [
    "# Store 30% of samples in small dataframe\n",
    "small = df_ords_cust_merge[~dev]"
   ]
  },
  {
   "cell_type": "code",
   "execution_count": 8,
   "id": "155da5e6",
   "metadata": {},
   "outputs": [
    {
     "data": {
      "text/html": [
       "<div>\n",
       "<style scoped>\n",
       "    .dataframe tbody tr th:only-of-type {\n",
       "        vertical-align: middle;\n",
       "    }\n",
       "\n",
       "    .dataframe tbody tr th {\n",
       "        vertical-align: top;\n",
       "    }\n",
       "\n",
       "    .dataframe thead th {\n",
       "        text-align: right;\n",
       "    }\n",
       "</style>\n",
       "<table border=\"1\" class=\"dataframe\">\n",
       "  <thead>\n",
       "    <tr style=\"text-align: right;\">\n",
       "      <th></th>\n",
       "      <th>order_id</th>\n",
       "      <th>user_id</th>\n",
       "      <th>order_number</th>\n",
       "      <th>orders_day_of_week</th>\n",
       "      <th>order_hour_of_day</th>\n",
       "      <th>days_since_prior_order</th>\n",
       "      <th>new_customer</th>\n",
       "      <th>product_id</th>\n",
       "      <th>add_to_cart_order</th>\n",
       "      <th>reordered</th>\n",
       "      <th>...</th>\n",
       "      <th>mean_prices</th>\n",
       "      <th>spending_flag</th>\n",
       "      <th>median_days_since_order</th>\n",
       "      <th>order_frequency</th>\n",
       "      <th>state</th>\n",
       "      <th>age</th>\n",
       "      <th>date_joined</th>\n",
       "      <th>dependants</th>\n",
       "      <th>household_status</th>\n",
       "      <th>income</th>\n",
       "    </tr>\n",
       "  </thead>\n",
       "  <tbody>\n",
       "    <tr>\n",
       "      <th>0</th>\n",
       "      <td>2539329</td>\n",
       "      <td>1</td>\n",
       "      <td>1</td>\n",
       "      <td>2</td>\n",
       "      <td>8</td>\n",
       "      <td>NaN</td>\n",
       "      <td>True</td>\n",
       "      <td>196</td>\n",
       "      <td>1</td>\n",
       "      <td>0</td>\n",
       "      <td>...</td>\n",
       "      <td>6.37</td>\n",
       "      <td>Low spender</td>\n",
       "      <td>20.5</td>\n",
       "      <td>Non-frequent customer</td>\n",
       "      <td>Alabama</td>\n",
       "      <td>31</td>\n",
       "      <td>2/17/2019</td>\n",
       "      <td>3</td>\n",
       "      <td>married</td>\n",
       "      <td>40423</td>\n",
       "    </tr>\n",
       "    <tr>\n",
       "      <th>2</th>\n",
       "      <td>473747</td>\n",
       "      <td>1</td>\n",
       "      <td>3</td>\n",
       "      <td>3</td>\n",
       "      <td>12</td>\n",
       "      <td>21.0</td>\n",
       "      <td>False</td>\n",
       "      <td>196</td>\n",
       "      <td>1</td>\n",
       "      <td>1</td>\n",
       "      <td>...</td>\n",
       "      <td>6.37</td>\n",
       "      <td>Low spender</td>\n",
       "      <td>20.5</td>\n",
       "      <td>Non-frequent customer</td>\n",
       "      <td>Alabama</td>\n",
       "      <td>31</td>\n",
       "      <td>2/17/2019</td>\n",
       "      <td>3</td>\n",
       "      <td>married</td>\n",
       "      <td>40423</td>\n",
       "    </tr>\n",
       "    <tr>\n",
       "      <th>3</th>\n",
       "      <td>2254736</td>\n",
       "      <td>1</td>\n",
       "      <td>4</td>\n",
       "      <td>4</td>\n",
       "      <td>7</td>\n",
       "      <td>29.0</td>\n",
       "      <td>False</td>\n",
       "      <td>196</td>\n",
       "      <td>1</td>\n",
       "      <td>1</td>\n",
       "      <td>...</td>\n",
       "      <td>6.37</td>\n",
       "      <td>Low spender</td>\n",
       "      <td>20.5</td>\n",
       "      <td>Non-frequent customer</td>\n",
       "      <td>Alabama</td>\n",
       "      <td>31</td>\n",
       "      <td>2/17/2019</td>\n",
       "      <td>3</td>\n",
       "      <td>married</td>\n",
       "      <td>40423</td>\n",
       "    </tr>\n",
       "    <tr>\n",
       "      <th>6</th>\n",
       "      <td>550135</td>\n",
       "      <td>1</td>\n",
       "      <td>7</td>\n",
       "      <td>1</td>\n",
       "      <td>9</td>\n",
       "      <td>20.0</td>\n",
       "      <td>False</td>\n",
       "      <td>196</td>\n",
       "      <td>1</td>\n",
       "      <td>1</td>\n",
       "      <td>...</td>\n",
       "      <td>6.37</td>\n",
       "      <td>Low spender</td>\n",
       "      <td>20.5</td>\n",
       "      <td>Non-frequent customer</td>\n",
       "      <td>Alabama</td>\n",
       "      <td>31</td>\n",
       "      <td>2/17/2019</td>\n",
       "      <td>3</td>\n",
       "      <td>married</td>\n",
       "      <td>40423</td>\n",
       "    </tr>\n",
       "    <tr>\n",
       "      <th>10</th>\n",
       "      <td>2539329</td>\n",
       "      <td>1</td>\n",
       "      <td>1</td>\n",
       "      <td>2</td>\n",
       "      <td>8</td>\n",
       "      <td>NaN</td>\n",
       "      <td>True</td>\n",
       "      <td>14084</td>\n",
       "      <td>2</td>\n",
       "      <td>0</td>\n",
       "      <td>...</td>\n",
       "      <td>6.37</td>\n",
       "      <td>Low spender</td>\n",
       "      <td>20.5</td>\n",
       "      <td>Non-frequent customer</td>\n",
       "      <td>Alabama</td>\n",
       "      <td>31</td>\n",
       "      <td>2/17/2019</td>\n",
       "      <td>3</td>\n",
       "      <td>married</td>\n",
       "      <td>40423</td>\n",
       "    </tr>\n",
       "  </tbody>\n",
       "</table>\n",
       "<p>5 rows × 30 columns</p>\n",
       "</div>"
      ],
      "text/plain": [
       "    order_id  user_id  order_number  orders_day_of_week  order_hour_of_day  \\\n",
       "0    2539329        1             1                   2                  8   \n",
       "2     473747        1             3                   3                 12   \n",
       "3    2254736        1             4                   4                  7   \n",
       "6     550135        1             7                   1                  9   \n",
       "10   2539329        1             1                   2                  8   \n",
       "\n",
       "    days_since_prior_order  new_customer  product_id  add_to_cart_order  \\\n",
       "0                      NaN          True         196                  1   \n",
       "2                     21.0         False         196                  1   \n",
       "3                     29.0         False         196                  1   \n",
       "6                     20.0         False         196                  1   \n",
       "10                     NaN          True       14084                  2   \n",
       "\n",
       "    reordered  ... mean_prices  spending_flag  median_days_since_order  \\\n",
       "0           0  ...        6.37    Low spender                     20.5   \n",
       "2           1  ...        6.37    Low spender                     20.5   \n",
       "3           1  ...        6.37    Low spender                     20.5   \n",
       "6           1  ...        6.37    Low spender                     20.5   \n",
       "10          0  ...        6.37    Low spender                     20.5   \n",
       "\n",
       "          order_frequency    state age date_joined dependants  \\\n",
       "0   Non-frequent customer  Alabama  31   2/17/2019          3   \n",
       "2   Non-frequent customer  Alabama  31   2/17/2019          3   \n",
       "3   Non-frequent customer  Alabama  31   2/17/2019          3   \n",
       "6   Non-frequent customer  Alabama  31   2/17/2019          3   \n",
       "10  Non-frequent customer  Alabama  31   2/17/2019          3   \n",
       "\n",
       "    household_status income  \n",
       "0            married  40423  \n",
       "2            married  40423  \n",
       "3            married  40423  \n",
       "6            married  40423  \n",
       "10           married  40423  \n",
       "\n",
       "[5 rows x 30 columns]"
      ]
     },
     "execution_count": 8,
     "metadata": {},
     "output_type": "execute_result"
    }
   ],
   "source": [
    "small.head()"
   ]
  },
  {
   "cell_type": "code",
   "execution_count": 9,
   "id": "f528dd45",
   "metadata": {},
   "outputs": [
    {
     "data": {
      "text/plain": [
       "0.29998387446377967"
      ]
     },
     "execution_count": 9,
     "metadata": {},
     "output_type": "execute_result"
    }
   ],
   "source": [
    "# Check length of small compared to length of original dataframe\n",
    "len(small)/len(df_ords_cust_merge)"
   ]
  },
  {
   "cell_type": "markdown",
   "id": "4d308967",
   "metadata": {},
   "source": [
    "#### The length of small is 30% of the length of df_ords_cust_merge"
   ]
  },
  {
   "cell_type": "markdown",
   "id": "2ff1ab5c",
   "metadata": {},
   "source": [
    "# 04 Compare age and number of dependents in line chart"
   ]
  },
  {
   "cell_type": "code",
   "execution_count": 10,
   "id": "92dfe6a8",
   "metadata": {},
   "outputs": [
    {
     "data": {
      "text/html": [
       "<div>\n",
       "<style scoped>\n",
       "    .dataframe tbody tr th:only-of-type {\n",
       "        vertical-align: middle;\n",
       "    }\n",
       "\n",
       "    .dataframe tbody tr th {\n",
       "        vertical-align: top;\n",
       "    }\n",
       "\n",
       "    .dataframe thead th {\n",
       "        text-align: right;\n",
       "    }\n",
       "</style>\n",
       "<table border=\"1\" class=\"dataframe\">\n",
       "  <thead>\n",
       "    <tr style=\"text-align: right;\">\n",
       "      <th></th>\n",
       "      <th>age</th>\n",
       "      <th>dependants</th>\n",
       "    </tr>\n",
       "  </thead>\n",
       "  <tbody>\n",
       "    <tr>\n",
       "      <th>32432997</th>\n",
       "      <td>38</td>\n",
       "      <td>1</td>\n",
       "    </tr>\n",
       "    <tr>\n",
       "      <th>32433002</th>\n",
       "      <td>25</td>\n",
       "      <td>0</td>\n",
       "    </tr>\n",
       "    <tr>\n",
       "      <th>32433005</th>\n",
       "      <td>25</td>\n",
       "      <td>0</td>\n",
       "    </tr>\n",
       "    <tr>\n",
       "      <th>32433007</th>\n",
       "      <td>25</td>\n",
       "      <td>0</td>\n",
       "    </tr>\n",
       "    <tr>\n",
       "      <th>32433008</th>\n",
       "      <td>25</td>\n",
       "      <td>0</td>\n",
       "    </tr>\n",
       "    <tr>\n",
       "      <th>32433009</th>\n",
       "      <td>25</td>\n",
       "      <td>0</td>\n",
       "    </tr>\n",
       "    <tr>\n",
       "      <th>32433015</th>\n",
       "      <td>25</td>\n",
       "      <td>0</td>\n",
       "    </tr>\n",
       "    <tr>\n",
       "      <th>32433018</th>\n",
       "      <td>25</td>\n",
       "      <td>0</td>\n",
       "    </tr>\n",
       "    <tr>\n",
       "      <th>32433020</th>\n",
       "      <td>25</td>\n",
       "      <td>0</td>\n",
       "    </tr>\n",
       "    <tr>\n",
       "      <th>32433028</th>\n",
       "      <td>22</td>\n",
       "      <td>3</td>\n",
       "    </tr>\n",
       "  </tbody>\n",
       "</table>\n",
       "</div>"
      ],
      "text/plain": [
       "          age  dependants\n",
       "32432997   38           1\n",
       "32433002   25           0\n",
       "32433005   25           0\n",
       "32433007   25           0\n",
       "32433008   25           0\n",
       "32433009   25           0\n",
       "32433015   25           0\n",
       "32433018   25           0\n",
       "32433020   25           0\n",
       "32433028   22           3"
      ]
     },
     "execution_count": 10,
     "metadata": {},
     "output_type": "execute_result"
    }
   ],
   "source": [
    "# Reduce samples to only columns needed for the chart (to speed up)\n",
    "df_2 = small[['age', 'dependants']]\n",
    "df_2.tail(10)"
   ]
  },
  {
   "cell_type": "code",
   "execution_count": 11,
   "id": "f358efac",
   "metadata": {},
   "outputs": [
    {
     "data": {
      "text/plain": [
       "[Text(0.5, 1.0, 'Number of dependants vs Age'),\n",
       " Text(0.5, 0, 'Age'),\n",
       " Text(0, 0.5, 'Number of Dependants')]"
      ]
     },
     "execution_count": 11,
     "metadata": {},
     "output_type": "execute_result"
    },
    {
     "data": {
      "image/png": "[encoded data removed]",
      "text/plain": [
       "<Figure size 432x288 with 1 Axes>"
      ]
     },
     "metadata": {
      "needs_background": "light"
     },
     "output_type": "display_data"
    }
   ],
   "source": [
    "# Create line chart of small dataframe\n",
    "line = sns.lineplot(\n",
    "    data = df_2,\n",
    "    x = 'age',\n",
    "    y = 'dependants')\n",
    "line.set(title= \"Number of dependants vs Age\", xlabel=\"Age\", ylabel=\"Number of Dependants\")"
   ]
  },
  {
   "cell_type": "markdown",
   "id": "6cbf6036",
   "metadata": {},
   "source": [
    "#### The line chart does not appear to show any correlation between age and number of dependents. There is no discernable relationship between the two."
   ]
  },
  {
   "cell_type": "code",
   "execution_count": 12,
   "id": "bc84420d",
   "metadata": {},
   "outputs": [],
   "source": [
    "# Export line object created previously\n",
    "line.figure.savefig(os.path.join(path, '04 Analysis', 'Visualizations', '08-line_age_dependants.png'))"
   ]
  },
  {
   "cell_type": "markdown",
   "id": "4ebacd02",
   "metadata": {},
   "source": [
    "# 05 Compare age and spending power in a scatterplot"
   ]
  },
  {
   "cell_type": "code",
   "execution_count": 13,
   "id": "2d5729cb",
   "metadata": {},
   "outputs": [
    {
     "data": {
      "text/plain": [
       "[Text(0.5, 1.0, 'Spending Power by Age'),\n",
       " Text(0.5, 0, 'Age'),\n",
       " Text(0, 0.5, 'Income (dollars)')]"
      ]
     },
     "execution_count": 13,
     "metadata": {},
     "output_type": "execute_result"
    },
    {
     "data": {
      "image/png": "[encoded data removed]",
      "text/plain": [
       "<Figure size 432x288 with 1 Axes>"
      ]
     },
     "metadata": {
      "needs_background": "light"
     },
     "output_type": "display_data"
    }
   ],
   "source": [
    "# Create a scatterplot of the \"prices\" column\n",
    "scatter = sns.scatterplot(\n",
    "    x = 'age',\n",
    "    y = 'income',\n",
    "    data = df_ords_cust_merge, \n",
    "    color=['green'])\n",
    "scatter.set(title=\"Spending Power by Age\", xlabel=\"Age\", ylabel=\"Income (dollars)\")"
   ]
  },
  {
   "cell_type": "markdown",
   "id": "40f71535",
   "metadata": {},
   "source": [
    "#### Customers under 40 have incomes les than 400,000. Fewer customers under 40 have incomes between 200,000 and 400,000 than customers over 40. In other words, customers over 40 have greater spending power."
   ]
  },
  {
   "cell_type": "code",
   "execution_count": 15,
   "id": "f26a809a",
   "metadata": {},
   "outputs": [],
   "source": [
    "# Export scatter object\n",
    "scatter.figure.savefig(os.path.join(path, '04 Analysis', 'Visualizations', '09-scatter_age_income.png'), bbox_inches='tight')"
   ]
  }
 ],
 "metadata": {
  "kernelspec": {
   "display_name": "Python 3 (ipykernel)",
   "language": "python",
   "name": "python3"
  },
  "language_info": {
   "codemirror_mode": {
    "name": "ipython",
    "version": 3
   },
   "file_extension": ".py",
   "mimetype": "text/x-python",
   "name": "python",
   "nbconvert_exporter": "python",
   "pygments_lexer": "ipython3",
   "version": "3.9.7"
  }
 },
 "nbformat": 4,
 "nbformat_minor": 5
}
